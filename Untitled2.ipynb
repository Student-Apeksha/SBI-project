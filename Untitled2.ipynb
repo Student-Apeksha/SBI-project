{
 "cells": [
  {
   "cell_type": "code",
   "execution_count": 19,
   "id": "ae342edb-d1d2-4992-8556-a75ccf2dc99d",
   "metadata": {},
   "outputs": [],
   "source": [
    "T=[22,45]"
   ]
  },
  {
   "cell_type": "code",
   "execution_count": 20,
   "id": "26fe24ba-6351-4362-bd02-f932b9e284c8",
   "metadata": {},
   "outputs": [
    {
     "data": {
      "text/plain": [
       "list"
      ]
     },
     "execution_count": 20,
     "metadata": {},
     "output_type": "execute_result"
    }
   ],
   "source": [
    "type(T)"
   ]
  },
  {
   "cell_type": "code",
   "execution_count": 3,
   "id": "e28fce4a-5acd-4914-8f97-650338d2e3cc",
   "metadata": {},
   "outputs": [],
   "source": [
    "t.sort()"
   ]
  },
  {
   "cell_type": "code",
   "execution_count": 4,
   "id": "2b28a974-c376-47d6-91fc-6ff3efdaae72",
   "metadata": {},
   "outputs": [
    {
     "data": {
      "text/plain": [
       "[22, 45]"
      ]
     },
     "execution_count": 4,
     "metadata": {},
     "output_type": "execute_result"
    }
   ],
   "source": [
    "t"
   ]
  },
  {
   "cell_type": "code",
   "execution_count": 16,
   "id": "feb03248-64c5-433d-b47e-7998d3492a8a",
   "metadata": {},
   "outputs": [
    {
     "ename": "NameError",
     "evalue": "name 'T' is not defined",
     "output_type": "error",
     "traceback": [
      "\u001b[1;31m---------------------------------------------------------------------------\u001b[0m",
      "\u001b[1;31mNameError\u001b[0m                                 Traceback (most recent call last)",
      "Cell \u001b[1;32mIn[16], line 1\u001b[0m\n\u001b[1;32m----> 1\u001b[0m \u001b[38;5;28mtype\u001b[39m(T)\n",
      "\u001b[1;31mNameError\u001b[0m: name 'T' is not defined"
     ]
    }
   ],
   "source": [
    "type(T)"
   ]
  },
  {
   "cell_type": "code",
   "execution_count": null,
   "id": "40d0bd56-17f8-4310-b3d7-53354a5c0386",
   "metadata": {},
   "outputs": [],
   "source": []
  },
  {
   "cell_type": "code",
   "execution_count": null,
   "id": "eb97b1a9-178b-457f-b27f-af9529649a72",
   "metadata": {},
   "outputs": [],
   "source": []
  },
  {
   "cell_type": "code",
   "execution_count": null,
   "id": "fcd8dae4-e764-4629-8ce7-a76b3c628611",
   "metadata": {},
   "outputs": [],
   "source": []
  },
  {
   "cell_type": "code",
   "execution_count": 5,
   "id": "e12ccfa0-2698-4e15-ba81-391029620134",
   "metadata": {},
   "outputs": [],
   "source": [
    "p=9,5"
   ]
  },
  {
   "cell_type": "code",
   "execution_count": 8,
   "id": "32cc1fdf-f622-4d3f-b166-4fd5eff6333b",
   "metadata": {},
   "outputs": [
    {
     "data": {
      "text/plain": [
       "tuple"
      ]
     },
     "execution_count": 8,
     "metadata": {},
     "output_type": "execute_result"
    }
   ],
   "source": [
    "type(p)"
   ]
  },
  {
   "cell_type": "code",
   "execution_count": 12,
   "id": "994c4862-9371-4610-bd4c-558c13cb141a",
   "metadata": {},
   "outputs": [],
   "source": [
    "emp_details={'id':101,'name':'keshav','city':'Pune','sal':9000000}"
   ]
  },
  {
   "cell_type": "code",
   "execution_count": 13,
   "id": "b81b5462-d85f-404f-9c9b-efe4d17a312a",
   "metadata": {},
   "outputs": [
    {
     "data": {
      "text/plain": [
       "{'id': 101, 'name': 'keshav', 'city': 'Pune', 'sal': 9000000}"
      ]
     },
     "execution_count": 13,
     "metadata": {},
     "output_type": "execute_result"
    }
   ],
   "source": [
    "emp_details"
   ]
  },
  {
   "cell_type": "code",
   "execution_count": 1,
   "id": "bfacd7a4-e6d7-4d54-9654-7b1045b7fdb3",
   "metadata": {},
   "outputs": [
    {
     "name": "stdout",
     "output_type": "stream",
     "text": [
      " Volume in drive C is Windows\n",
      " Volume Serial Number is 8043-BA5D\n",
      "\n",
      " Directory of C:\\Users\\apeks\n",
      "\n",
      "01-09-2024  21:35    <DIR>          .\n",
      "29-08-2024  11:03    <DIR>          ..\n",
      "25-08-2024  19:42    <DIR>          .anaconda\n",
      "02-09-2024  20:48    <DIR>          .conda\n",
      "29-08-2024  12:31                42 .condarc\n",
      "25-08-2024  19:42    <DIR>          .continuum\n",
      "29-08-2024  20:09    <DIR>          .ipynb_checkpoints\n",
      "29-08-2024  13:05    <DIR>          .ipython\n",
      "29-08-2024  13:00    <DIR>          .jupyter\n",
      "08-05-2024  17:22    <DIR>          .vscode\n",
      "29-08-2024  12:19    <DIR>          anaconda3\n",
      "18-04-2024  19:51    <DIR>          Contacts\n",
      "19-04-2024  10:13    <DIR>          Documents\n",
      "02-09-2024  14:47    <DIR>          Downloads\n",
      "18-04-2024  19:51    <DIR>          Favorites\n",
      "18-04-2024  19:51    <DIR>          Links\n",
      "18-04-2024  19:51    <DIR>          Music\n",
      "02-09-2024  19:52    <DIR>          OneDrive\n",
      "19-06-2024  17:09    <DIR>          PyCharm Community Edition 2024.1.3\n",
      "19-06-2024  17:22    <DIR>          pythonProject\n",
      "19-06-2024  17:26    <DIR>          pythonProject1\n",
      "16-08-2024  10:18    <DIR>          pythonProject2\n",
      "18-04-2024  19:51    <DIR>          Saved Games\n",
      "18-07-2024  13:49    <DIR>          Searches\n",
      "30-08-2024  08:53             4,766 Untitled.ipynb\n",
      "29-08-2024  19:56             1,037 Untitled1.ipynb\n",
      "01-09-2024  21:35             4,301 Untitled2.ipynb\n",
      "26-04-2024  06:35    <DIR>          Videos\n",
      "               4 File(s)         10,146 bytes\n",
      "              24 Dir(s)  432,973,750,272 bytes free\n"
     ]
    }
   ],
   "source": [
    "ls"
   ]
  },
  {
   "cell_type": "code",
   "execution_count": 1,
   "id": "1142db52-d579-4579-ac92-941d783ef761",
   "metadata": {},
   "outputs": [],
   "source": [
    "y=945645"
   ]
  },
  {
   "cell_type": "code",
   "execution_count": 4,
   "id": "ef4abd37-d6af-4dd9-a981-f56fe1181642",
   "metadata": {},
   "outputs": [
    {
     "name": "stdout",
     "output_type": "stream",
     "text": [
      "945645\n"
     ]
    }
   ],
   "source": [
    "print(y)"
   ]
  },
  {
   "cell_type": "code",
   "execution_count": 17,
   "id": "9745ab33-0cab-4073-a201-b8f815f4c6a9",
   "metadata": {},
   "outputs": [],
   "source": [
    "z=(3.4)"
   ]
  },
  {
   "cell_type": "code",
   "execution_count": 18,
   "id": "385452bb-15e9-4f65-b2e6-b0b30201b2ae",
   "metadata": {},
   "outputs": [
    {
     "data": {
      "text/plain": [
       "float"
      ]
     },
     "execution_count": 18,
     "metadata": {},
     "output_type": "execute_result"
    }
   ],
   "source": [
    "type(z)"
   ]
  },
  {
   "cell_type": "code",
   "execution_count": 2,
   "id": "7d3ac5b8-8b40-456e-8599-d6c531942f26",
   "metadata": {},
   "outputs": [
    {
     "name": "stdout",
     "output_type": "stream",
     "text": [
      "Hello world\n"
     ]
    }
   ],
   "source": [
    "print(\"Hello world\")"
   ]
  },
  {
   "cell_type": "code",
   "execution_count": 11,
   "id": "c155a29d-194e-4664-8c99-7b1a34206f35",
   "metadata": {},
   "outputs": [],
   "source": [
    "p=(\"data scientist\")"
   ]
  },
  {
   "cell_type": "code",
   "execution_count": 12,
   "id": "3e3ebb5b-6e64-47eb-906e-1972b50237a4",
   "metadata": {},
   "outputs": [
    {
     "data": {
      "text/plain": [
       "'data scientist'"
      ]
     },
     "execution_count": 12,
     "metadata": {},
     "output_type": "execute_result"
    }
   ],
   "source": [
    "p"
   ]
  },
  {
   "cell_type": "code",
   "execution_count": null,
   "id": "fcfc9925-9262-4ac7-97af-118666b3a3b6",
   "metadata": {},
   "outputs": [],
   "source": []
  },
  {
   "cell_type": "code",
   "execution_count": 5,
   "id": "6dbde32a-5832-4e16-a63d-d9d526a80a46",
   "metadata": {},
   "outputs": [
    {
     "data": {
      "text/plain": [
       "'Apeksha'"
      ]
     },
     "execution_count": 5,
     "metadata": {},
     "output_type": "execute_result"
    }
   ],
   "source": [
    "p"
   ]
  },
  {
   "cell_type": "code",
   "execution_count": 6,
   "id": "16a1c5bb-e251-421e-a43c-d2b8e818877e",
   "metadata": {},
   "outputs": [
    {
     "data": {
      "text/plain": [
       "'APEKSHA'"
      ]
     },
     "execution_count": 6,
     "metadata": {},
     "output_type": "execute_result"
    }
   ],
   "source": [
    "p.upper()"
   ]
  },
  {
   "cell_type": "code",
   "execution_count": 7,
   "id": "71e4e21d-1bd2-4b84-bca5-7ad441440eae",
   "metadata": {},
   "outputs": [
    {
     "data": {
      "text/plain": [
       "'apeksha'"
      ]
     },
     "execution_count": 7,
     "metadata": {},
     "output_type": "execute_result"
    }
   ],
   "source": [
    "p.lower()"
   ]
  },
  {
   "cell_type": "code",
   "execution_count": 13,
   "id": "2bec265e-0532-43d1-97eb-35850e50c983",
   "metadata": {},
   "outputs": [
    {
     "data": {
      "text/plain": [
       "'Data scientist'"
      ]
     },
     "execution_count": 13,
     "metadata": {},
     "output_type": "execute_result"
    }
   ],
   "source": [
    "p.capitalize()"
   ]
  },
  {
   "cell_type": "code",
   "execution_count": 14,
   "id": "8ea79aa6-957c-4d1d-9d93-8653d0cba5d6",
   "metadata": {},
   "outputs": [
    {
     "data": {
      "text/plain": [
       "'DATA SCIENTIST'"
      ]
     },
     "execution_count": 14,
     "metadata": {},
     "output_type": "execute_result"
    }
   ],
   "source": [
    "p.swapcase()"
   ]
  },
  {
   "cell_type": "code",
   "execution_count": 15,
   "id": "0e918dcf-d580-4825-a614-9474db866eb5",
   "metadata": {},
   "outputs": [
    {
     "data": {
      "text/plain": [
       "'Data Scientist'"
      ]
     },
     "execution_count": 15,
     "metadata": {},
     "output_type": "execute_result"
    }
   ],
   "source": [
    "p.title()"
   ]
  },
  {
   "cell_type": "code",
   "execution_count": 20,
   "id": "fb8cdb9c-84ba-4c26-897f-a47e01fc7525",
   "metadata": {},
   "outputs": [
    {
     "data": {
      "text/plain": [
       "str"
      ]
     },
     "execution_count": 20,
     "metadata": {},
     "output_type": "execute_result"
    }
   ],
   "source": [
    "type(p)"
   ]
  },
  {
   "cell_type": "code",
   "execution_count": 2,
   "id": "f4d11190-6df1-446f-ac6a-4a16b353c9f3",
   "metadata": {},
   "outputs": [
    {
     "ename": "NameError",
     "evalue": "name 'length' is not defined",
     "output_type": "error",
     "traceback": [
      "\u001b[1;31m---------------------------------------------------------------------------\u001b[0m",
      "\u001b[1;31mNameError\u001b[0m                                 Traceback (most recent call last)",
      "Cell \u001b[1;32mIn[2], line 1\u001b[0m\n\u001b[1;32m----> 1\u001b[0m length(p)\n",
      "\u001b[1;31mNameError\u001b[0m: name 'length' is not defined"
     ]
    }
   ],
   "source": [
    "length(p)"
   ]
  },
  {
   "cell_type": "code",
   "execution_count": null,
   "id": "46fa1863-7f9a-47a6-a0c4-d7042bf52639",
   "metadata": {},
   "outputs": [],
   "source": []
  }
 ],
 "metadata": {
  "kernelspec": {
   "display_name": "Python 3 (ipykernel)",
   "language": "python",
   "name": "python3"
  },
  "language_info": {
   "codemirror_mode": {
    "name": "ipython",
    "version": 3
   },
   "file_extension": ".py",
   "mimetype": "text/x-python",
   "name": "python",
   "nbconvert_exporter": "python",
   "pygments_lexer": "ipython3",
   "version": "3.12.4"
  }
 },
 "nbformat": 4,
 "nbformat_minor": 5
}
